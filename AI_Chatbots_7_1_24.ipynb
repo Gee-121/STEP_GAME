{
  "nbformat": 4,
  "nbformat_minor": 0,
  "metadata": {
    "colab": {
      "provenance": [],
      "collapsed_sections": [
        "o5xOAZ9KlE9A",
        "48RcG_qkn-yQ",
        "8vd0NvKYr6F_",
        "x2NHTzbquKNj",
        "qozciZLl6FMf",
        "mBE-rEM5-NAI",
        "slVmhPE1AvCE",
        "ZEiINvoSBxf9"
      ],
      "authorship_tag": "ABX9TyMHxS6tkvWwUSlX4Sv8c8KI",
      "include_colab_link": true
    },
    "kernelspec": {
      "name": "python3",
      "display_name": "Python 3"
    },
    "language_info": {
      "name": "python"
    }
  },
  "cells": [
    {
      "cell_type": "markdown",
      "metadata": {
        "id": "view-in-github",
        "colab_type": "text"
      },
      "source": [
        "<a href=\"https://colab.research.google.com/github/Gee-121/STEP_GAME/blob/main/AI_Chatbots_7_1_24.ipynb\" target=\"_parent\"><img src=\"https://colab.research.google.com/assets/colab-badge.svg\" alt=\"Open In Colab\"/></a>"
      ]
    },
    {
      "cell_type": "markdown",
      "source": [
        "#Chatbot1\n",
        "##Asks a few questions then can calculate x, -, /, or +."
      ],
      "metadata": {
        "id": "o5xOAZ9KlE9A"
      }
    },
    {
      "cell_type": "code",
      "execution_count": null,
      "metadata": {
        "colab": {
          "base_uri": "https://localhost:8080/",
          "height": 738
        },
        "collapsed": true,
        "id": "kikkt0f4YB7v",
        "outputId": "e49738a6-1c94-403c-f2ff-07f76f4f9ac6"
      },
      "outputs": [
        {
          "output_type": "stream",
          "name": "stdout",
          "text": [
            "NAME YOUR AI CHATBOT:g\n",
            " \n",
            " \n",
            " \n",
            "Hi, my name is g\n",
            " \n",
            "What is yout name? g\n",
            " \n",
            "Hello g, nice to meet you.\n",
            " \n",
            " \n",
            " \n",
            "What is your favorite food? gg\n",
            " \n",
            " \n",
            " \n",
            "That is an icredible choice, I love the taste of gg, let's move on now\n",
            "Would you like for me to calculate something?yes\n",
            "What kind of question is your math equation?+\n",
            "Enter a number: 56\n",
            "Enter a number: 78\n",
            "4368\n"
          ]
        },
        {
          "output_type": "error",
          "ename": "KeyboardInterrupt",
          "evalue": "Interrupted by user",
          "traceback": [
            "\u001b[0;31m---------------------------------------------------------------------------\u001b[0m",
            "\u001b[0;31mKeyboardInterrupt\u001b[0m                         Traceback (most recent call last)",
            "\u001b[0;32m<ipython-input-16-520f005b55e5>\u001b[0m in \u001b[0;36m<cell line: 23>\u001b[0;34m()\u001b[0m\n\u001b[1;32m     29\u001b[0m       \u001b[0mprint\u001b[0m\u001b[0;34m(\u001b[0m\u001b[0manswer\u001b[0m\u001b[0;34m)\u001b[0m\u001b[0;34m\u001b[0m\u001b[0;34m\u001b[0m\u001b[0m\n\u001b[1;32m     30\u001b[0m   \u001b[0;32mif\u001b[0m \u001b[0mquestion\u001b[0m \u001b[0;34m==\u001b[0m \u001b[0;34m\"/\"\u001b[0m \u001b[0;32mor\u001b[0m \u001b[0;34m\"division\"\u001b[0m \u001b[0;32mor\u001b[0m \u001b[0;34m\"÷\"\u001b[0m\u001b[0;34m:\u001b[0m\u001b[0;34m\u001b[0m\u001b[0;34m\u001b[0m\u001b[0m\n\u001b[0;32m---> 31\u001b[0;31m       \u001b[0mnum1\u001b[0m \u001b[0;34m=\u001b[0m \u001b[0mint\u001b[0m\u001b[0;34m(\u001b[0m\u001b[0minput\u001b[0m\u001b[0;34m(\u001b[0m\u001b[0;34m\"Enter a number: \"\u001b[0m\u001b[0;34m)\u001b[0m\u001b[0;34m)\u001b[0m\u001b[0;34m\u001b[0m\u001b[0;34m\u001b[0m\u001b[0m\n\u001b[0m\u001b[1;32m     32\u001b[0m       \u001b[0mnum2\u001b[0m \u001b[0;34m=\u001b[0m \u001b[0mint\u001b[0m\u001b[0;34m(\u001b[0m\u001b[0minput\u001b[0m\u001b[0;34m(\u001b[0m\u001b[0;34m\"Enter a number: \"\u001b[0m\u001b[0;34m)\u001b[0m\u001b[0;34m)\u001b[0m\u001b[0;34m\u001b[0m\u001b[0;34m\u001b[0m\u001b[0m\n\u001b[1;32m     33\u001b[0m       \u001b[0manswer\u001b[0m \u001b[0;34m=\u001b[0m \u001b[0mnum1\u001b[0m \u001b[0;34m/\u001b[0m \u001b[0mnum2\u001b[0m\u001b[0;34m\u001b[0m\u001b[0;34m\u001b[0m\u001b[0m\n",
            "\u001b[0;32m/usr/local/lib/python3.10/dist-packages/ipykernel/kernelbase.py\u001b[0m in \u001b[0;36mraw_input\u001b[0;34m(self, prompt)\u001b[0m\n\u001b[1;32m    849\u001b[0m                 \u001b[0;34m\"raw_input was called, but this frontend does not support input requests.\"\u001b[0m\u001b[0;34m\u001b[0m\u001b[0;34m\u001b[0m\u001b[0m\n\u001b[1;32m    850\u001b[0m             )\n\u001b[0;32m--> 851\u001b[0;31m         return self._input_request(str(prompt),\n\u001b[0m\u001b[1;32m    852\u001b[0m             \u001b[0mself\u001b[0m\u001b[0;34m.\u001b[0m\u001b[0m_parent_ident\u001b[0m\u001b[0;34m,\u001b[0m\u001b[0;34m\u001b[0m\u001b[0;34m\u001b[0m\u001b[0m\n\u001b[1;32m    853\u001b[0m             \u001b[0mself\u001b[0m\u001b[0;34m.\u001b[0m\u001b[0m_parent_header\u001b[0m\u001b[0;34m,\u001b[0m\u001b[0;34m\u001b[0m\u001b[0;34m\u001b[0m\u001b[0m\n",
            "\u001b[0;32m/usr/local/lib/python3.10/dist-packages/ipykernel/kernelbase.py\u001b[0m in \u001b[0;36m_input_request\u001b[0;34m(self, prompt, ident, parent, password)\u001b[0m\n\u001b[1;32m    893\u001b[0m             \u001b[0;32mexcept\u001b[0m \u001b[0mKeyboardInterrupt\u001b[0m\u001b[0;34m:\u001b[0m\u001b[0;34m\u001b[0m\u001b[0;34m\u001b[0m\u001b[0m\n\u001b[1;32m    894\u001b[0m                 \u001b[0;31m# re-raise KeyboardInterrupt, to truncate traceback\u001b[0m\u001b[0;34m\u001b[0m\u001b[0;34m\u001b[0m\u001b[0m\n\u001b[0;32m--> 895\u001b[0;31m                 \u001b[0;32mraise\u001b[0m \u001b[0mKeyboardInterrupt\u001b[0m\u001b[0;34m(\u001b[0m\u001b[0;34m\"Interrupted by user\"\u001b[0m\u001b[0;34m)\u001b[0m \u001b[0;32mfrom\u001b[0m \u001b[0;32mNone\u001b[0m\u001b[0;34m\u001b[0m\u001b[0;34m\u001b[0m\u001b[0m\n\u001b[0m\u001b[1;32m    896\u001b[0m             \u001b[0;32mexcept\u001b[0m \u001b[0mException\u001b[0m \u001b[0;32mas\u001b[0m \u001b[0me\u001b[0m\u001b[0;34m:\u001b[0m\u001b[0;34m\u001b[0m\u001b[0;34m\u001b[0m\u001b[0m\n\u001b[1;32m    897\u001b[0m                 \u001b[0mself\u001b[0m\u001b[0;34m.\u001b[0m\u001b[0mlog\u001b[0m\u001b[0;34m.\u001b[0m\u001b[0mwarning\u001b[0m\u001b[0;34m(\u001b[0m\u001b[0;34m\"Invalid Message:\"\u001b[0m\u001b[0;34m,\u001b[0m \u001b[0mexc_info\u001b[0m\u001b[0;34m=\u001b[0m\u001b[0;32mTrue\u001b[0m\u001b[0;34m)\u001b[0m\u001b[0;34m\u001b[0m\u001b[0;34m\u001b[0m\u001b[0m\n",
            "\u001b[0;31mKeyboardInterrupt\u001b[0m: Interrupted by user"
          ]
        }
      ],
      "source": [
        "ainame = input(\"NAME YOUR AI CHATBOT:\")\n",
        "import time\n",
        "time.sleep(3)\n",
        "for i in range(3):\n",
        "  print(\" \")\n",
        "print(\"Hi, my name is \" + ainame)\n",
        "time.sleep(3)\n",
        "print(\" \")\n",
        "username = input(\"What is yout name? \")\n",
        "time.sleep(1)\n",
        "print(\" \")\n",
        "print(\"Hello \" + username + \", nice to meet you.\")\n",
        "for i in range(3):\n",
        "  print(\" \")\n",
        "time.sleep(3)\n",
        "favoritefood = input(\"What is your favorite food? \")\n",
        "time.sleep(3)\n",
        "for i in range(3):\n",
        "  print(\" \")\n",
        "print(\"That is an icredible choice, I love the taste of \" + favoritefood + \", let's move on now\")\n",
        "time.sleep(1)\n",
        "calcon = input(\"Would you like for me to calculate something?\")\n",
        "if input == \"yes\" or \"sure\":\n",
        "  question = input(\"What kind of question is your math equation?\")\n",
        "  if question == \"x\" or \"multiplication\":\n",
        "      num1 = int(input(\"Enter a number: \"))\n",
        "      num2 = int(input(\"Enter a number: \"))\n",
        "      answer = num1 * num2\n",
        "      print(answer)\n",
        "  if question == \"/\" or \"division\" or \"÷\":\n",
        "      num1 = int(input(\"Enter a number: \"))\n",
        "      num2 = int(input(\"Enter a number: \"))\n",
        "      answer = num1 / num2\n",
        "      print(answer)\n",
        "  if question == \"+\" or \"multiplication\":\n",
        "      num1 = int(input(\"Enter a number: \"))\n",
        "      num2 = int(input(\"Enter a number: \"))\n",
        "      answer = num1 + num2\n",
        "      print(answer)\n",
        "  if question == \"-\" or \"multiplication\":\n",
        "      num1 = int(input(\"Enter a number: \"))\n",
        "      num2 = int(input(\"Enter a number: \"))\n",
        "      answer = num1 - num2\n",
        "      print(answer)"
      ]
    },
    {
      "cell_type": "markdown",
      "source": [
        "#Notes/tests for questions and calc."
      ],
      "metadata": {
        "id": "4KXM4Vpss2zb"
      }
    },
    {
      "cell_type": "code",
      "source": [
        "num1 = int(input(\"Enter a number: \"))\n",
        "num2 = int(input(\"Enter a number: \"))\n",
        "answer = num1 / num2\n",
        "print(answer)\n",
        "\n"
      ],
      "metadata": {
        "colab": {
          "base_uri": "https://localhost:8080/"
        },
        "collapsed": true,
        "id": "aRIJKsBnl2vZ",
        "outputId": "2fdad232-4fec-4070-84c7-4fa109cc9b4d"
      },
      "execution_count": null,
      "outputs": [
        {
          "output_type": "stream",
          "name": "stdout",
          "text": [
            "Enter a number: 78\n",
            "Enter a number: 8\n",
            "9.75\n"
          ]
        }
      ]
    },
    {
      "cell_type": "markdown",
      "source": [
        "#20% Resturaunt tip and perimiter calculator\n",
        "##will calculate perimiter and 20% resturaunt tip"
      ],
      "metadata": {
        "id": "48RcG_qkn-yQ"
      }
    },
    {
      "cell_type": "code",
      "source": [
        "import time\n",
        "print(\"Hello, welcome, I will calculate your bill payment amount with a 20% tip.\")\n",
        "time.sleep(1)\n",
        "print(\" \")\n",
        "bill = float(input(\"Enter bill amount: \"))\n",
        "time.sleep(1)\n",
        "print(\" \")\n",
        "print(\"I will now calculate how much you will pay for with a 20% tip.\")\n",
        "time.sleep(1)\n",
        "print(\" \")\n",
        "answer = bill + (bill * 0.2)\n",
        "answer2 = bill * 0.2\n",
        "print(\"Your tip payment was \", answer2, \".\")\n",
        "print(\" \")\n",
        "time.sleep(1)\n",
        "print(\"Your total is:\" , answer)\n",
        "print(\" \")\n",
        "time.sleep(1)\n",
        "print(\"Thank you for using our service.\")"
      ],
      "metadata": {
        "colab": {
          "base_uri": "https://localhost:8080/"
        },
        "collapsed": true,
        "id": "tjhE0U6bn-gL",
        "outputId": "3e5fac49-d1b2-4c97-da8d-05ff6ca78803"
      },
      "execution_count": null,
      "outputs": [
        {
          "output_type": "stream",
          "name": "stdout",
          "text": [
            "Hello, welcome, I will calculate your bill payment amount with a 20% tip.\n",
            " \n",
            "Enter bill amount: 56.67\n",
            " \n",
            "I will now calculate how much you will pay for with a 20% tip.\n",
            " \n",
            "Your tip payment was  11.334000000000001 .\n",
            " \n",
            "Your total is: 68.004\n",
            " \n",
            "Thank you for using our service\n"
          ]
        }
      ]
    },
    {
      "cell_type": "markdown",
      "source": [
        "#Selection With Two Outcomes"
      ],
      "metadata": {
        "id": "8vd0NvKYr6F_"
      }
    },
    {
      "cell_type": "code",
      "source": [
        "num1 = int(input(\"Enter number 1: \"))\n",
        "num2 = int(input(\"Enter number 2: \"))\n",
        "if num1 > num2:\n",
        "  print(num1,\"is bigger than\",num2)\n",
        "else:\n",
        "  print(num2,\"is bigger than\",num1)\n",
        "print(\"Great, have a nice day.\")"
      ],
      "metadata": {
        "colab": {
          "base_uri": "https://localhost:8080/"
        },
        "id": "PXT_3MrNr8i6",
        "outputId": "d308500f-e5b8-4114-ab5e-1c5d24be0759"
      },
      "execution_count": null,
      "outputs": [
        {
          "output_type": "stream",
          "name": "stdout",
          "text": [
            "Enter number 1: 45\n",
            "Enter number 2: 4567\n",
            "4567 is bigger than 45 .\n",
            "Great, have a nice day.\n"
          ]
        }
      ]
    },
    {
      "cell_type": "markdown",
      "source": [
        "#Login checker\n",
        "##stores the number 1337 and has user guess the password"
      ],
      "metadata": {
        "id": "x2NHTzbquKNj"
      }
    },
    {
      "cell_type": "code",
      "source": [
        "import time\n",
        "password = 1337 or 7331\n",
        "print(\"You must guess the password to be let into the text of secrets, there are two passwords, but you may only have once chance to guess before getting kicked out\")\n",
        "guess = int(input(\"Guess: \"))\n",
        "if guess == 1337 or 7331:\n",
        "  print(\"Congratualations, you guessed correct, you may be let into the biggest secret text in the universe.\")\n",
        "  time.sleep(3)\n",
        "  print(\"Ready?\")\n",
        "  time.sleep(3)\n",
        "  print(\"mango.\")\n",
        "  time.sleep(3)\n",
        "  print(\"That's it, that's the biggest secret text in the universe.\")\n",
        "  time.sleep(3)\n",
        "  print(\" \")\n",
        "  print(\"mango.\")\n",
        "else:\n",
        "  print(\"Wrong, get out of here.\")\n",
        "  time.sleep(2)\n",
        "  print(\"now.\")\n",
        "  exit(1)"
      ],
      "metadata": {
        "colab": {
          "base_uri": "https://localhost:8080/"
        },
        "id": "gYuBdXlLuVL7",
        "outputId": "2a427427-9840-4700-e163-546d79ef3cb9"
      },
      "execution_count": null,
      "outputs": [
        {
          "output_type": "stream",
          "name": "stdout",
          "text": [
            "You must guess the password to be let into the text of secrets\n",
            "Guess: 1337\n",
            "Congratualations, you guessed correct, you may be let into the biggest secret text in the universe.\n",
            "Ready?\n",
            "mango.\n",
            "That's it, that's the biggest secret text in the universe.\n",
            " \n",
            "mango.\n"
          ]
        }
      ]
    },
    {
      "cell_type": "markdown",
      "source": [
        "#Elif study session"
      ],
      "metadata": {
        "id": "qozciZLl6FMf"
      }
    },
    {
      "cell_type": "code",
      "source": [
        "import time\n",
        "subject = input(\"What are you studying, I am here to tell you what room your subject is in: \")\n",
        "if subject == \"math\":\n",
        "  time.sleep(1)\n",
        "  print(\"Great, that will be in room 3 Pythagoras.\")\n",
        "elif subject == \"english\":\n",
        "  time.sleep(1)\n",
        "  print(\"Cool, that will be in room 2.\")\n",
        "elif subject == \"art\":\n",
        "  time.sleep(1)\n",
        "  print(\"Awesome, that will be in room 4 Van Gogh.\")\n",
        "elif subject == \"history\":\n",
        "  time.sleep (1)\n",
        "  print(\"Terrible, I hated that class, your one hour and thirty minutes of misery will be in room 1.\")\n",
        "elif subject == \"french\":\n",
        "  time.sleep(1)\n",
        "  print(\"Oui, your class will be in room cinq (5).\")\n",
        "elif subject == \"biology\":\n",
        "  time.sleep(1)\n",
        "  print(\"Nice, your class will be in room 6.\")\n",
        "time.sleep(1)\n",
        "print(\"Have a nuetral day.\")"
      ],
      "metadata": {
        "colab": {
          "base_uri": "https://localhost:8080/"
        },
        "id": "_ovH57et6KM1",
        "outputId": "1ca4ca84-1c2e-40dd-ae41-fcf7989ad4d2"
      },
      "execution_count": null,
      "outputs": [
        {
          "output_type": "stream",
          "name": "stdout",
          "text": [
            "What are you studying, I am here to tell you what room your subject is in: biology\n",
            "Nice, your class will be in room 6.\n",
            "Have a nuetral day.\n"
          ]
        }
      ]
    },
    {
      "cell_type": "markdown",
      "source": [
        "#INSULT-O-MATIC 5000"
      ],
      "metadata": {
        "id": "mBE-rEM5-NAI"
      }
    },
    {
      "cell_type": "code",
      "source": [
        "import time\n",
        "username = input(\"put your name in: \")\n",
        "useless = int(input(\"enter a number 1-5: \"))\n",
        "if useless == 1:\n",
        "  print(username, \"you suck\")\n",
        "  time.sleep(1)\n",
        "  print(\"and you stink\")\n",
        "elif useless == 2:\n",
        "  print(username, \"you are the worst, why are you using my program right now.\")\n",
        "elif useless == 3:\n",
        "  print(username, \"i simply despise you\")\n",
        "elif useless == 4:\n",
        "  print(username, \"get a better barber, genuinely\")\n",
        "elif useless == 5:\n",
        "  print(username, \"just leave, i can't even insult you, you suck that bad\")"
      ],
      "metadata": {
        "colab": {
          "base_uri": "https://localhost:8080/",
          "height": 356
        },
        "id": "IluxtopV-Rv4",
        "outputId": "8dbda791-0254-4329-ac5a-2b712860af17"
      },
      "execution_count": null,
      "outputs": [
        {
          "output_type": "error",
          "ename": "KeyboardInterrupt",
          "evalue": "Interrupted by user",
          "traceback": [
            "\u001b[0;31m---------------------------------------------------------------------------\u001b[0m",
            "\u001b[0;31mKeyboardInterrupt\u001b[0m                         Traceback (most recent call last)",
            "\u001b[0;32m<ipython-input-74-7ae7eff25089>\u001b[0m in \u001b[0;36m<cell line: 2>\u001b[0;34m()\u001b[0m\n\u001b[1;32m      1\u001b[0m \u001b[0;32mimport\u001b[0m \u001b[0mtime\u001b[0m\u001b[0;34m\u001b[0m\u001b[0;34m\u001b[0m\u001b[0m\n\u001b[0;32m----> 2\u001b[0;31m \u001b[0musername\u001b[0m \u001b[0;34m=\u001b[0m \u001b[0minput\u001b[0m\u001b[0;34m(\u001b[0m\u001b[0;34m\"put your name in: \"\u001b[0m\u001b[0;34m)\u001b[0m\u001b[0;34m\u001b[0m\u001b[0;34m\u001b[0m\u001b[0m\n\u001b[0m\u001b[1;32m      3\u001b[0m \u001b[0museless\u001b[0m \u001b[0;34m=\u001b[0m \u001b[0mint\u001b[0m\u001b[0;34m(\u001b[0m\u001b[0minput\u001b[0m\u001b[0;34m(\u001b[0m\u001b[0;34m\"enter a number 1-5: \"\u001b[0m\u001b[0;34m)\u001b[0m\u001b[0;34m)\u001b[0m\u001b[0;34m\u001b[0m\u001b[0;34m\u001b[0m\u001b[0m\n\u001b[1;32m      4\u001b[0m \u001b[0;32mif\u001b[0m \u001b[0museless\u001b[0m \u001b[0;34m==\u001b[0m \u001b[0;36m1\u001b[0m\u001b[0;34m:\u001b[0m\u001b[0;34m\u001b[0m\u001b[0;34m\u001b[0m\u001b[0m\n\u001b[1;32m      5\u001b[0m   \u001b[0mprint\u001b[0m\u001b[0;34m(\u001b[0m\u001b[0musername\u001b[0m\u001b[0;34m,\u001b[0m \u001b[0;34m\"you suck\"\u001b[0m\u001b[0;34m)\u001b[0m\u001b[0;34m\u001b[0m\u001b[0;34m\u001b[0m\u001b[0m\n",
            "\u001b[0;32m/usr/local/lib/python3.10/dist-packages/ipykernel/kernelbase.py\u001b[0m in \u001b[0;36mraw_input\u001b[0;34m(self, prompt)\u001b[0m\n\u001b[1;32m    849\u001b[0m                 \u001b[0;34m\"raw_input was called, but this frontend does not support input requests.\"\u001b[0m\u001b[0;34m\u001b[0m\u001b[0;34m\u001b[0m\u001b[0m\n\u001b[1;32m    850\u001b[0m             )\n\u001b[0;32m--> 851\u001b[0;31m         return self._input_request(str(prompt),\n\u001b[0m\u001b[1;32m    852\u001b[0m             \u001b[0mself\u001b[0m\u001b[0;34m.\u001b[0m\u001b[0m_parent_ident\u001b[0m\u001b[0;34m,\u001b[0m\u001b[0;34m\u001b[0m\u001b[0;34m\u001b[0m\u001b[0m\n\u001b[1;32m    853\u001b[0m             \u001b[0mself\u001b[0m\u001b[0;34m.\u001b[0m\u001b[0m_parent_header\u001b[0m\u001b[0;34m,\u001b[0m\u001b[0;34m\u001b[0m\u001b[0;34m\u001b[0m\u001b[0m\n",
            "\u001b[0;32m/usr/local/lib/python3.10/dist-packages/ipykernel/kernelbase.py\u001b[0m in \u001b[0;36m_input_request\u001b[0;34m(self, prompt, ident, parent, password)\u001b[0m\n\u001b[1;32m    893\u001b[0m             \u001b[0;32mexcept\u001b[0m \u001b[0mKeyboardInterrupt\u001b[0m\u001b[0;34m:\u001b[0m\u001b[0;34m\u001b[0m\u001b[0;34m\u001b[0m\u001b[0m\n\u001b[1;32m    894\u001b[0m                 \u001b[0;31m# re-raise KeyboardInterrupt, to truncate traceback\u001b[0m\u001b[0;34m\u001b[0m\u001b[0;34m\u001b[0m\u001b[0m\n\u001b[0;32m--> 895\u001b[0;31m                 \u001b[0;32mraise\u001b[0m \u001b[0mKeyboardInterrupt\u001b[0m\u001b[0;34m(\u001b[0m\u001b[0;34m\"Interrupted by user\"\u001b[0m\u001b[0;34m)\u001b[0m \u001b[0;32mfrom\u001b[0m \u001b[0;32mNone\u001b[0m\u001b[0;34m\u001b[0m\u001b[0;34m\u001b[0m\u001b[0m\n\u001b[0m\u001b[1;32m    896\u001b[0m             \u001b[0;32mexcept\u001b[0m \u001b[0mException\u001b[0m \u001b[0;32mas\u001b[0m \u001b[0me\u001b[0m\u001b[0;34m:\u001b[0m\u001b[0;34m\u001b[0m\u001b[0;34m\u001b[0m\u001b[0m\n\u001b[1;32m    897\u001b[0m                 \u001b[0mself\u001b[0m\u001b[0;34m.\u001b[0m\u001b[0mlog\u001b[0m\u001b[0;34m.\u001b[0m\u001b[0mwarning\u001b[0m\u001b[0;34m(\u001b[0m\u001b[0;34m\"Invalid Message:\"\u001b[0m\u001b[0;34m,\u001b[0m \u001b[0mexc_info\u001b[0m\u001b[0;34m=\u001b[0m\u001b[0;32mTrue\u001b[0m\u001b[0;34m)\u001b[0m\u001b[0;34m\u001b[0m\u001b[0;34m\u001b[0m\u001b[0m\n",
            "\u001b[0;31mKeyboardInterrupt\u001b[0m: Interrupted by user"
          ]
        }
      ]
    },
    {
      "cell_type": "markdown",
      "source": [],
      "metadata": {
        "id": "PKCGUT47_0BQ"
      }
    },
    {
      "cell_type": "code",
      "source": [],
      "metadata": {
        "id": "b32D4K3a_zX0"
      },
      "execution_count": null,
      "outputs": []
    },
    {
      "cell_type": "markdown",
      "source": [
        "#Iteration - Tasks Part 2"
      ],
      "metadata": {
        "id": "slVmhPE1AvCE"
      }
    },
    {
      "cell_type": "code",
      "source": [
        "secretnumber = 7\n",
        "wow = int(input(\"Guess a number: \"))\n",
        "while wow != secretnumber:\n",
        "  wow = int(input(\"Guess again: \"))\n",
        "print(\"Good job, you guessed correctly.\")"
      ],
      "metadata": {
        "colab": {
          "base_uri": "https://localhost:8080/"
        },
        "id": "lTFFmqvpAzWC",
        "outputId": "79e89e4b-5118-4890-a11d-858b176b7182"
      },
      "execution_count": null,
      "outputs": [
        {
          "output_type": "stream",
          "name": "stdout",
          "text": [
            "Guess a number: 1\n",
            "Guess again: 2\n",
            "Guess again: 3\n",
            "Guess again: 4\n",
            "Guess again: 5\n",
            "Guess again: 6\n",
            "Guess again: 7\n",
            "Good job.\n"
          ]
        }
      ]
    },
    {
      "cell_type": "markdown",
      "source": [
        "#Iteration with a counter"
      ],
      "metadata": {
        "id": "ZEiINvoSBxf9"
      }
    },
    {
      "cell_type": "code",
      "source": [
        "counter = 7\n",
        "counter2 = 1\n",
        "\n",
        "print(\"MULTIPLES OF 7 UP TO 7X12.\")\n",
        "print(\" \")\n",
        "while counter < 91:\n",
        "  print(\"7x\", counter2, \"=\", counter)\n",
        "  counter +=7\n",
        "  counter2 +=1\n"
      ],
      "metadata": {
        "colab": {
          "base_uri": "https://localhost:8080/"
        },
        "id": "ueYC8o-5B0Ex",
        "outputId": "05fc3acd-3e0b-4f8c-e22c-55716ab98ecb"
      },
      "execution_count": null,
      "outputs": [
        {
          "output_type": "stream",
          "name": "stdout",
          "text": [
            "MULTIPLES OF 7 UP TO 7X12.\n",
            " \n",
            "7x 1 = 7\n",
            "7x 2 = 14\n",
            "7x 3 = 21\n",
            "7x 4 = 28\n",
            "7x 5 = 35\n",
            "7x 6 = 42\n",
            "7x 7 = 49\n",
            "7x 8 = 56\n",
            "7x 9 = 63\n",
            "7x 10 = 70\n",
            "7x 11 = 77\n",
            "7x 12 = 84\n"
          ]
        }
      ]
    },
    {
      "cell_type": "markdown",
      "source": [
        "#Homework Challenge"
      ],
      "metadata": {
        "id": "9KF9N8HZELmf"
      }
    },
    {
      "cell_type": "code",
      "source": [
        "num = int(input(\"Enter a amount of numbers 1-5: \"))\n",
        "counter = 1\n",
        "if num =="
      ],
      "metadata": {
        "id": "4SZaIgIiEONL"
      },
      "execution_count": null,
      "outputs": []
    }
  ]
}